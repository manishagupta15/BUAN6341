{
 "cells": [
  {
   "cell_type": "markdown",
   "metadata": {},
   "source": [
    "# Assignment 2\n",
    "## Applied Machine Learning (BUAN 6341)\n",
    "\n",
    "### <font color='red'>Due Date: March 14, 2019 11:59pm</font> "
   ]
  },
  {
   "cell_type": "markdown",
   "metadata": {},
   "source": [
    "Deliverables:\n",
    "\n",
    "- Submit your answers to conceptual questions (described in another .pdf file) in a pdf file\n",
    "- Write down your codes in the given cells described in this file, denoted as \"YOUR CODE HERE\"\n",
    "- Use \"download as\" in the \"file\" menu to convert your ipython file to a .html file\n",
    "- Submit three files: .pdf, .ipynb, and .html files to the eLearning\n",
    "\n",
    "\n",
    "This assignment covers Supervised Learning models and model evaluation.\n",
    "\n",
    "\n",
    "The total score of the implementation part is: 70"
   ]
  },
  {
   "cell_type": "code",
   "execution_count": 1,
   "metadata": {},
   "outputs": [],
   "source": [
    "NAME = \"Manisha Gupta\""
   ]
  },
  {
   "cell_type": "code",
   "execution_count": 2,
   "metadata": {},
   "outputs": [],
   "source": [
    "%matplotlib inline \n",
    "import numpy as np\n",
    "#!pip install mglearn\n",
    "import pandas as pd\n",
    "import sklearn\n",
    "import mglearn\n",
    "import matplotlib.pyplot as plt\n",
    "import seaborn as sns\n",
    "\n",
    "import warnings\n",
    "warnings.filterwarnings('ignore')\n"
   ]
  },
  {
   "cell_type": "markdown",
   "metadata": {},
   "source": [
    "## Data Exploration\n",
    "\n",
    "Before you start training any model, try your best to understand the information contained in the data (e.g., distributions, attributes, etc.)\n",
    "\n",
    "\n",
    "Gender Recognition by Voice and Speech Analysis\n",
    "\n",
    "This database was created to identify a voice as male or female, based upon acoustic properties of the voice and speech. The dataset consists of 3,168 recorded voice samples, collected from male and female speakers. The voice samples are pre-processed by acoustic analysis in R using the seewave and tuneR packages, with an analyzed frequency range of 0hz-280hz (human vocal range).\n",
    "\n",
    "\n",
    "The following acoustic properties of each voice are measured and included within the CSV:\n",
    "\n",
    "- meanfreq: mean frequency (in kHz)\n",
    "- sd: standard deviation of frequency\n",
    "- median: median frequency (in kHz)\n",
    "- Q25: first quantile (in kHz)\n",
    "- Q75: third quantile (in kHz)\n",
    "- IQR: interquantile range (in kHz)\n",
    "- skew: skewness (see note in specprop description)\n",
    "- kurt: kurtosis (see note in specprop description)\n",
    "- sp.ent: spectral entropy\n",
    "- sfm: spectral flatness\n",
    "- mode: mode frequency\n",
    "- centroid: frequency centroid (see specprop)\n",
    "- peakf: peak frequency (frequency with highest energy)\n",
    "- meanfun: average of fundamental frequency measured across acoustic signal\n",
    "- minfun: minimum fundamental frequency measured across acoustic signal\n",
    "- maxfun: maximum fundamental frequency measured across acoustic signal\n",
    "- meandom: average of dominant frequency measured across acoustic signal\n",
    "- mindom: minimum of dominant frequency measured across acoustic signal\n",
    "- maxdom: maximum of dominant frequency measured across acoustic signal\n",
    "- dfrange: range of dominant frequency measured across acoustic signal\n",
    "- modindx: modulation index. Calculated as the accumulated absolute difference between adjacent measurements of fundamental frequencies divided by the frequency range\n",
    "- label: male or female\n"
   ]
  },
  {
   "cell_type": "code",
   "execution_count": 3,
   "metadata": {},
   "outputs": [],
   "source": [
    "voice = pd.read_csv('C:\\\\Users\\\\abhin\\\\Downloads\\\\voice.csv')"
   ]
  },
  {
   "cell_type": "code",
   "execution_count": 4,
   "metadata": {},
   "outputs": [
    {
     "data": {
      "text/html": [
       "<div>\n",
       "<style scoped>\n",
       "    .dataframe tbody tr th:only-of-type {\n",
       "        vertical-align: middle;\n",
       "    }\n",
       "\n",
       "    .dataframe tbody tr th {\n",
       "        vertical-align: top;\n",
       "    }\n",
       "\n",
       "    .dataframe thead th {\n",
       "        text-align: right;\n",
       "    }\n",
       "</style>\n",
       "<table border=\"1\" class=\"dataframe\">\n",
       "  <thead>\n",
       "    <tr style=\"text-align: right;\">\n",
       "      <th></th>\n",
       "      <th>meanfreq</th>\n",
       "      <th>sd</th>\n",
       "      <th>median</th>\n",
       "      <th>Q25</th>\n",
       "      <th>Q75</th>\n",
       "      <th>IQR</th>\n",
       "      <th>skew</th>\n",
       "      <th>kurt</th>\n",
       "      <th>sp.ent</th>\n",
       "      <th>sfm</th>\n",
       "      <th>mode</th>\n",
       "      <th>centroid</th>\n",
       "      <th>meanfun</th>\n",
       "      <th>minfun</th>\n",
       "      <th>maxfun</th>\n",
       "      <th>meandom</th>\n",
       "      <th>mindom</th>\n",
       "      <th>maxdom</th>\n",
       "      <th>dfrange</th>\n",
       "      <th>modindx</th>\n",
       "    </tr>\n",
       "  </thead>\n",
       "  <tbody>\n",
       "    <tr>\n",
       "      <th>count</th>\n",
       "      <td>3168.000000</td>\n",
       "      <td>3168.000000</td>\n",
       "      <td>3168.000000</td>\n",
       "      <td>3168.000000</td>\n",
       "      <td>3168.000000</td>\n",
       "      <td>3168.000000</td>\n",
       "      <td>3168.000000</td>\n",
       "      <td>3168.000000</td>\n",
       "      <td>3168.000000</td>\n",
       "      <td>3168.000000</td>\n",
       "      <td>3168.000000</td>\n",
       "      <td>3168.000000</td>\n",
       "      <td>3168.000000</td>\n",
       "      <td>3168.000000</td>\n",
       "      <td>3168.000000</td>\n",
       "      <td>3168.000000</td>\n",
       "      <td>3168.000000</td>\n",
       "      <td>3168.000000</td>\n",
       "      <td>3168.000000</td>\n",
       "      <td>3168.000000</td>\n",
       "    </tr>\n",
       "    <tr>\n",
       "      <th>mean</th>\n",
       "      <td>0.180907</td>\n",
       "      <td>0.057126</td>\n",
       "      <td>0.185621</td>\n",
       "      <td>0.140456</td>\n",
       "      <td>0.224765</td>\n",
       "      <td>0.084309</td>\n",
       "      <td>3.140168</td>\n",
       "      <td>36.568461</td>\n",
       "      <td>0.895127</td>\n",
       "      <td>0.408216</td>\n",
       "      <td>0.165282</td>\n",
       "      <td>0.180907</td>\n",
       "      <td>0.142807</td>\n",
       "      <td>0.036802</td>\n",
       "      <td>0.258842</td>\n",
       "      <td>0.829211</td>\n",
       "      <td>0.052647</td>\n",
       "      <td>5.047277</td>\n",
       "      <td>4.994630</td>\n",
       "      <td>0.173752</td>\n",
       "    </tr>\n",
       "    <tr>\n",
       "      <th>std</th>\n",
       "      <td>0.029918</td>\n",
       "      <td>0.016652</td>\n",
       "      <td>0.036360</td>\n",
       "      <td>0.048680</td>\n",
       "      <td>0.023639</td>\n",
       "      <td>0.042783</td>\n",
       "      <td>4.240529</td>\n",
       "      <td>134.928661</td>\n",
       "      <td>0.044980</td>\n",
       "      <td>0.177521</td>\n",
       "      <td>0.077203</td>\n",
       "      <td>0.029918</td>\n",
       "      <td>0.032304</td>\n",
       "      <td>0.019220</td>\n",
       "      <td>0.030077</td>\n",
       "      <td>0.525205</td>\n",
       "      <td>0.063299</td>\n",
       "      <td>3.521157</td>\n",
       "      <td>3.520039</td>\n",
       "      <td>0.119454</td>\n",
       "    </tr>\n",
       "    <tr>\n",
       "      <th>min</th>\n",
       "      <td>0.039363</td>\n",
       "      <td>0.018363</td>\n",
       "      <td>0.010975</td>\n",
       "      <td>0.000229</td>\n",
       "      <td>0.042946</td>\n",
       "      <td>0.014558</td>\n",
       "      <td>0.141735</td>\n",
       "      <td>2.068455</td>\n",
       "      <td>0.738651</td>\n",
       "      <td>0.036876</td>\n",
       "      <td>0.000000</td>\n",
       "      <td>0.039363</td>\n",
       "      <td>0.055565</td>\n",
       "      <td>0.009775</td>\n",
       "      <td>0.103093</td>\n",
       "      <td>0.007812</td>\n",
       "      <td>0.004883</td>\n",
       "      <td>0.007812</td>\n",
       "      <td>0.000000</td>\n",
       "      <td>0.000000</td>\n",
       "    </tr>\n",
       "    <tr>\n",
       "      <th>25%</th>\n",
       "      <td>0.163662</td>\n",
       "      <td>0.041954</td>\n",
       "      <td>0.169593</td>\n",
       "      <td>0.111087</td>\n",
       "      <td>0.208747</td>\n",
       "      <td>0.042560</td>\n",
       "      <td>1.649569</td>\n",
       "      <td>5.669547</td>\n",
       "      <td>0.861811</td>\n",
       "      <td>0.258041</td>\n",
       "      <td>0.118016</td>\n",
       "      <td>0.163662</td>\n",
       "      <td>0.116998</td>\n",
       "      <td>0.018223</td>\n",
       "      <td>0.253968</td>\n",
       "      <td>0.419828</td>\n",
       "      <td>0.007812</td>\n",
       "      <td>2.070312</td>\n",
       "      <td>2.044922</td>\n",
       "      <td>0.099766</td>\n",
       "    </tr>\n",
       "    <tr>\n",
       "      <th>50%</th>\n",
       "      <td>0.184838</td>\n",
       "      <td>0.059155</td>\n",
       "      <td>0.190032</td>\n",
       "      <td>0.140286</td>\n",
       "      <td>0.225684</td>\n",
       "      <td>0.094280</td>\n",
       "      <td>2.197101</td>\n",
       "      <td>8.318463</td>\n",
       "      <td>0.901767</td>\n",
       "      <td>0.396335</td>\n",
       "      <td>0.186599</td>\n",
       "      <td>0.184838</td>\n",
       "      <td>0.140519</td>\n",
       "      <td>0.046110</td>\n",
       "      <td>0.271186</td>\n",
       "      <td>0.765795</td>\n",
       "      <td>0.023438</td>\n",
       "      <td>4.992188</td>\n",
       "      <td>4.945312</td>\n",
       "      <td>0.139357</td>\n",
       "    </tr>\n",
       "    <tr>\n",
       "      <th>75%</th>\n",
       "      <td>0.199146</td>\n",
       "      <td>0.067020</td>\n",
       "      <td>0.210618</td>\n",
       "      <td>0.175939</td>\n",
       "      <td>0.243660</td>\n",
       "      <td>0.114175</td>\n",
       "      <td>2.931694</td>\n",
       "      <td>13.648905</td>\n",
       "      <td>0.928713</td>\n",
       "      <td>0.533676</td>\n",
       "      <td>0.221104</td>\n",
       "      <td>0.199146</td>\n",
       "      <td>0.169581</td>\n",
       "      <td>0.047904</td>\n",
       "      <td>0.277457</td>\n",
       "      <td>1.177166</td>\n",
       "      <td>0.070312</td>\n",
       "      <td>7.007812</td>\n",
       "      <td>6.992188</td>\n",
       "      <td>0.209183</td>\n",
       "    </tr>\n",
       "    <tr>\n",
       "      <th>max</th>\n",
       "      <td>0.251124</td>\n",
       "      <td>0.115273</td>\n",
       "      <td>0.261224</td>\n",
       "      <td>0.247347</td>\n",
       "      <td>0.273469</td>\n",
       "      <td>0.252225</td>\n",
       "      <td>34.725453</td>\n",
       "      <td>1309.612887</td>\n",
       "      <td>0.981997</td>\n",
       "      <td>0.842936</td>\n",
       "      <td>0.280000</td>\n",
       "      <td>0.251124</td>\n",
       "      <td>0.237636</td>\n",
       "      <td>0.204082</td>\n",
       "      <td>0.279114</td>\n",
       "      <td>2.957682</td>\n",
       "      <td>0.458984</td>\n",
       "      <td>21.867188</td>\n",
       "      <td>21.843750</td>\n",
       "      <td>0.932374</td>\n",
       "    </tr>\n",
       "  </tbody>\n",
       "</table>\n",
       "</div>"
      ],
      "text/plain": [
       "          meanfreq           sd       median          Q25          Q75  \\\n",
       "count  3168.000000  3168.000000  3168.000000  3168.000000  3168.000000   \n",
       "mean      0.180907     0.057126     0.185621     0.140456     0.224765   \n",
       "std       0.029918     0.016652     0.036360     0.048680     0.023639   \n",
       "min       0.039363     0.018363     0.010975     0.000229     0.042946   \n",
       "25%       0.163662     0.041954     0.169593     0.111087     0.208747   \n",
       "50%       0.184838     0.059155     0.190032     0.140286     0.225684   \n",
       "75%       0.199146     0.067020     0.210618     0.175939     0.243660   \n",
       "max       0.251124     0.115273     0.261224     0.247347     0.273469   \n",
       "\n",
       "               IQR         skew         kurt       sp.ent          sfm  \\\n",
       "count  3168.000000  3168.000000  3168.000000  3168.000000  3168.000000   \n",
       "mean      0.084309     3.140168    36.568461     0.895127     0.408216   \n",
       "std       0.042783     4.240529   134.928661     0.044980     0.177521   \n",
       "min       0.014558     0.141735     2.068455     0.738651     0.036876   \n",
       "25%       0.042560     1.649569     5.669547     0.861811     0.258041   \n",
       "50%       0.094280     2.197101     8.318463     0.901767     0.396335   \n",
       "75%       0.114175     2.931694    13.648905     0.928713     0.533676   \n",
       "max       0.252225    34.725453  1309.612887     0.981997     0.842936   \n",
       "\n",
       "              mode     centroid      meanfun       minfun       maxfun  \\\n",
       "count  3168.000000  3168.000000  3168.000000  3168.000000  3168.000000   \n",
       "mean      0.165282     0.180907     0.142807     0.036802     0.258842   \n",
       "std       0.077203     0.029918     0.032304     0.019220     0.030077   \n",
       "min       0.000000     0.039363     0.055565     0.009775     0.103093   \n",
       "25%       0.118016     0.163662     0.116998     0.018223     0.253968   \n",
       "50%       0.186599     0.184838     0.140519     0.046110     0.271186   \n",
       "75%       0.221104     0.199146     0.169581     0.047904     0.277457   \n",
       "max       0.280000     0.251124     0.237636     0.204082     0.279114   \n",
       "\n",
       "           meandom       mindom       maxdom      dfrange      modindx  \n",
       "count  3168.000000  3168.000000  3168.000000  3168.000000  3168.000000  \n",
       "mean      0.829211     0.052647     5.047277     4.994630     0.173752  \n",
       "std       0.525205     0.063299     3.521157     3.520039     0.119454  \n",
       "min       0.007812     0.004883     0.007812     0.000000     0.000000  \n",
       "25%       0.419828     0.007812     2.070312     2.044922     0.099766  \n",
       "50%       0.765795     0.023438     4.992188     4.945312     0.139357  \n",
       "75%       1.177166     0.070312     7.007812     6.992188     0.209183  \n",
       "max       2.957682     0.458984    21.867188    21.843750     0.932374  "
      ]
     },
     "execution_count": 4,
     "metadata": {},
     "output_type": "execute_result"
    }
   ],
   "source": [
    "voice.describe()"
   ]
  },
  {
   "cell_type": "code",
   "execution_count": 5,
   "metadata": {},
   "outputs": [],
   "source": [
    "from sklearn.model_selection import train_test_split\n",
    "\n",
    "X = voice.iloc[:,0:19]\n",
    "y = voice.iloc[:,20]\n",
    "\n",
    "\n",
    "X_train, X_test, y_train, y_test = train_test_split(X, y, random_state=0)"
   ]
  },
  {
   "cell_type": "code",
   "execution_count": 6,
   "metadata": {},
   "outputs": [
    {
     "data": {
      "text/plain": [
       "count       3168\n",
       "unique         2\n",
       "top       female\n",
       "freq        1584\n",
       "Name: label, dtype: object"
      ]
     },
     "execution_count": 6,
     "metadata": {},
     "output_type": "execute_result"
    }
   ],
   "source": [
    "y.describe()"
   ]
  },
  {
   "cell_type": "markdown",
   "metadata": {},
   "source": [
    "## Simple Models \n"
   ]
  },
  {
   "cell_type": "code",
   "execution_count": 8,
   "metadata": {},
   "outputs": [
    {
     "name": "stdout",
     "output_type": "stream",
     "text": [
      "Linear train score:  0.9911249880388285\n",
      "Linear test score:  0.9911249880388285\n",
      "{'C': 1}\n",
      "RBF train score:  0.9941672012276592\n",
      "RBF test score:  0.9941672012276592\n",
      "{'C': 10000, 'gamma': 0.001}\n"
     ]
    }
   ],
   "source": [
    "# Train a SVM model; tune the best parameters C and gamma; [10 points]\n",
    "# YOUR CODE HERE\n",
    "\n",
    "from sklearn.model_selection import GridSearchCV\n",
    "from sklearn.svm import LinearSVC\n",
    "from sklearn.svm import SVC\n",
    "\n",
    "linear_svc = LinearSVC()\n",
    "\n",
    "\n",
    "#define a list of parameters\n",
    "params_svc = {'C': [0.001, 0.01, 0.1, 1, 10, 100]}\n",
    "\n",
    "grid_svc = GridSearchCV(linear_svc, params_svc, cv=5, n_jobs=2,scoring = 'roc_auc', return_train_score=True)\n",
    "grid_svc.fit(X_train, y_train)\n",
    "\n",
    "print('Linear train score: ', grid_svc.score(X_train, y_train))\n",
    "print('Linear test score: ', grid_svc.score(X_train, y_train))\n",
    "print(grid_svc.best_params_)\n",
    "\n",
    "svc = SVC(probability = True)\n",
    "svc_kernel = SVC(kernel = 'rbf',probability = True)\n",
    "\n",
    "#define a list of parameters\n",
    "param_svc_kernel = {'C': [1,10,100,1000,10000],'gamma':[0.001,0.001,0.1,1,10]}\n",
    "\n",
    "#apply grid search\n",
    "grid_svc_kernel = GridSearchCV(svc_kernel, param_svc_kernel, cv=5, n_jobs=2, scoring='roc_auc')\n",
    "grid_svc_kernel.fit(X_train, y_train)\n",
    "\n",
    "print('RBF train score: ', grid_svc_kernel.score(X_train, y_train))\n",
    "print('RBF test score: ', grid_svc_kernel.score(X_train, y_train))\n",
    "print(grid_svc_kernel.best_params_)\n",
    "\n",
    "#svc_kernel = SVC(kernel = 'rbf',C= 10000, gamma= 0.001, Probability = True).fit(X_train, y_train)\n",
    "#print('RBF svc train score: ', SVC.score(X_train, y_train))\n",
    "#print('RBF svc test score: ', SVC.score(X_train, y_train))\n",
    "y_pred = grid_svc_kernel.predict(X_test)\n",
    "\n",
    "#print(accuracy_score(y_test, y_pred))\n"
   ]
  },
  {
   "cell_type": "code",
   "execution_count": 9,
   "metadata": {},
   "outputs": [
    {
     "name": "stdout",
     "output_type": "stream",
     "text": [
      "{'C': 0.01, 'max_iter': 20}\n",
      "0.6944444444444444\n",
      "Logisitic Training set score: 0.680\n",
      "Logistic Test set score: 0.694\n",
      "{'max_depth': 1, 'max_leaf_nodes': 2, 'min_samples_split': 2}\n",
      "0.9482323232323232\n",
      "Decision Tree model Accuracy on training set: 0.955\n",
      "Decision Tree model Accuracy on test set: 0.948\n"
     ]
    }
   ],
   "source": [
    "# Train a logistic regression model and a decision tree (you need to select proper parameters) [10 points]\n",
    "# YOUR CODE HERE\n",
    "from sklearn.linear_model import LogisticRegression\n",
    "import warnings\n",
    "warnings.filterwarnings('ignore')\n",
    "logreg = LogisticRegression()\n",
    "\n",
    "param_LGR = {\"C\": [0.01,0.001,0.0001],\n",
    "           \"max_iter\": range(10,200,10)}\n",
    "grid_lgr = GridSearchCV(logreg,param_LGR,cv=5)\n",
    "grid_lgr.fit(X_train,y_train)\n",
    "print(grid_lgr.best_params_)\n",
    "print(grid_lgr.score(X_test,y_test))\n",
    "\n",
    "print(\"Logisitic Training set score: {:.3f}\".format(grid_lgr.score(X_train, y_train)))\n",
    "print(\"Logistic Test set score: {:.3f}\".format(grid_lgr.score(X_test, y_test)))\n",
    "\n",
    "#print(\"lr.coef_:\", grid_lgr.coef_)\n",
    "#print(\"lr.intercept_:\", grid_lgr.intercept_)\n",
    "\n",
    "\n",
    "#X_train, X_test, y_train, y_test\n",
    "from sklearn.tree import DecisionTreeClassifier\n",
    "from sklearn.model_selection import GridSearchCV\n",
    "opt_tree = DecisionTreeClassifier(random_state = 0)\n",
    "param_DT = {\"max_depth\": range(1,10),\n",
    "           \"min_samples_split\": range(2,10,1),\n",
    "           \"max_leaf_nodes\": range(2,5)}\n",
    "\n",
    "grid_tree = GridSearchCV(opt_tree,param_DT,cv=5)\n",
    "grid_tree.fit(X_train,y_train)\n",
    "print(grid_tree.best_params_)\n",
    "print(grid_tree.score(X_test,y_test))\n",
    "print(\"Decision Tree model Accuracy on training set: {:.3f}\".format(grid_tree.score(X_train, y_train)))\n",
    "print(\"Decision Tree model Accuracy on test set: {:.3f}\".format(grid_tree.score(X_test, y_test)))"
   ]
  },
  {
   "cell_type": "markdown",
   "metadata": {},
   "source": [
    "## Ensemble Models"
   ]
  },
  {
   "cell_type": "code",
   "execution_count": 11,
   "metadata": {},
   "outputs": [
    {
     "name": "stdout",
     "output_type": "stream",
     "text": [
      "{'bootstrap': True, 'criterion': 'entropy', 'max_depth': 2, 'max_features': 'auto', 'max_leaf_nodes': 3, 'min_samples_leaf': 1, 'min_samples_split': 2, 'n_estimators': 50}\n",
      "0.9621212121212122\n",
      "Random forest model Accuracy on training set: 0.963\n",
      "Random forest model Accuracy on test set: 0.962\n",
      "Random forest  0.9595959595959596\n"
     ]
    }
   ],
   "source": [
    "# Train a random forest model (you need to select proper parameters) [10 points]\n",
    "\n",
    "# YOUR CODE HERE\n",
    "from sklearn.ensemble import RandomForestClassifier\n",
    "from sklearn.metrics import accuracy_score\n",
    "RFT = RandomForestClassifier(random_state=42)\n",
    "\n",
    "param_RFT = {'bootstrap':[True, False], 'criterion' :['gini','entropy'],\n",
    "            'max_depth' : [2,3], 'max_features' : ['auto'], 'max_leaf_nodes' : [2,3],\n",
    "            'min_samples_leaf':[1,2], 'min_samples_split' : [2,3],\n",
    "             'n_estimators':[50,100,150,200]}\n",
    "grid_RFtree = GridSearchCV(RFT,param_RFT,cv=5)\n",
    "grid_RFtree.fit(X_train,y_train)\n",
    "print(grid_RFtree.best_params_)\n",
    "print(grid_RFtree.score(X_test,y_test))\n",
    "\n",
    "\n",
    "print(\"Random forest model Accuracy on training set: {:.3f}\".format(grid_RFtree.score(X_train, y_train)))\n",
    "print(\"Random forest model Accuracy on test set: {:.3f}\".format(grid_RFtree.score(X_test, y_test)))\n",
    "print(\"Random forest \" , accuracy_score(y_test, y_pred))\n",
    "\n"
   ]
  },
  {
   "cell_type": "code",
   "execution_count": 13,
   "metadata": {},
   "outputs": [
    {
     "name": "stdout",
     "output_type": "stream",
     "text": [
      "LogisticRegression 0.6944444444444444\n",
      "RandomForestClassifier 0.9823232323232324\n",
      "SVC 0.9103535353535354\n",
      "DecisionTreeClassifier 0.9482323232323232\n",
      "VotingClassifier 0.9747474747474747\n"
     ]
    }
   ],
   "source": [
    "# use voting classifier to combine the above four model [10 points]\n",
    "\n",
    "# Voting Classifier\n",
    "from sklearn.ensemble import RandomForestClassifier\n",
    "from sklearn.ensemble import VotingClassifier\n",
    "from sklearn.linear_model import LogisticRegression\n",
    "from sklearn.svm import SVC\n",
    "from sklearn.tree import DecisionTreeClassifier\n",
    "from sklearn.metrics import accuracy_score\n",
    "\n",
    "log_clf = LogisticRegression(solver=\"liblinear\", C = 0.01, max_iter = 20, random_state=42)\n",
    "rnd_clf = RandomForestClassifier(n_estimators=50, random_state=42)\n",
    "svm_clf = SVC(gamma=\"auto\", C = 10000, random_state=42, probability = True)\n",
    "dt_clf = DecisionTreeClassifier(max_depth= 1, max_leaf_nodes= 2, min_samples_split= 2, random_state = 42)\n",
    "voting_clf = VotingClassifier(\n",
    "    estimators=[('lr', log_clf), ('rf', rnd_clf), ('svc', svm_clf),('dt', dt_clf)],\n",
    "    voting='soft')\n",
    "\n",
    "# If ‘hard’, uses predicted class labels for majority rule voting. \n",
    "# Else if ‘soft’, predicts the class label based on the argmax of the sums of the predicted probabilities, which is recommended for an ensemble of well-calibrated classifiers.\n",
    "\n",
    "voting_clf.fit(X_train, y_train)\n",
    "\n",
    "\n",
    "for clf in (log_clf, rnd_clf, svm_clf, dt_clf, voting_clf):\n",
    "    clf.fit(X_train, y_train)\n",
    "    y_pred = clf.predict(X_test)\n",
    "    print(clf.__class__.__name__, accuracy_score(y_test, y_pred))\n",
    "    \n",
    "\n",
    "\n",
    "\n",
    "    \n",
    "\n"
   ]
  },
  {
   "cell_type": "code",
   "execution_count": 15,
   "metadata": {},
   "outputs": [
    {
     "name": "stdout",
     "output_type": "stream",
     "text": [
      "adaboost Decision Tree  0.9810606060606061\n",
      "adaboost SVM  0.9015151515151515\n"
     ]
    }
   ],
   "source": [
    "# apply decision tree and svm (with your optimal model parameters) with adaboost [20 points]\n",
    "\n",
    "# YOUR CODE HERE\n",
    "\n",
    "from sklearn.ensemble import AdaBoostClassifier\n",
    "from sklearn.tree import DecisionTreeClassifier\n",
    "ada_clf = AdaBoostClassifier(\n",
    "    DecisionTreeClassifier(max_depth=1), n_estimators=200,\n",
    "    algorithm=\"SAMME.R\", learning_rate=0.5, random_state=42)\n",
    "ada_clf.fit(X_train, y_train)\n",
    "\n",
    "y_pred = ada_clf.predict(X_test)\n",
    "\n",
    "print(\"adaboost Decision Tree \", accuracy_score(y_test, y_pred))\n",
    "\n",
    "# SVM \n",
    "# ada_clf_svm = AdaBoostClassifier(\n",
    "#     SVC(gamma=\"auto\", C= 10000,probability = True), n_estimators=200,\n",
    "#     algorithm=\"SAMME.R\", learning_rate=0.5, random_state=42)\n",
    "ada_clf_svm = AdaBoostClassifier(\n",
    "    SVC(gamma=\"auto\", C= 10000, probability = True), n_estimators=100,\n",
    "    algorithm=\"SAMME\", learning_rate=0.5)\n",
    "\n",
    "ada_clf_svm.fit(X_train, y_train)\n",
    "\n",
    "y_svm_pred = ada_clf_svm.predict(X_test)\n",
    "\n",
    "print(\"adaboost SVM \", accuracy_score(y_test, y_svm_pred))\n"
   ]
  },
  {
   "cell_type": "markdown",
   "metadata": {},
   "source": [
    "## Model Evaluations"
   ]
  },
  {
   "cell_type": "code",
   "execution_count": 16,
   "metadata": {
    "scrolled": false
   },
   "outputs": [
    {
     "name": "stdout",
     "output_type": "stream",
     "text": [
      "[[279  94]\n",
      " [148 271]]\n"
     ]
    },
    {
     "data": {
      "image/png": "[encoded data removed]",
      "text/plain": [
       "<Figure size 432x288 with 1 Axes>"
      ]
     },
     "metadata": {
      "needs_background": "light"
     },
     "output_type": "display_data"
    },
    {
     "name": "stdout",
     "output_type": "stream",
     "text": [
      "[[353  20]\n",
      " [ 21 398]]\n"
     ]
    },
    {
     "data": {
      "image/png": "[encoded data removed]",
      "text/plain": [
       "<Figure size 432x288 with 1 Axes>"
      ]
     },
     "metadata": {
      "needs_background": "light"
     },
     "output_type": "display_data"
    },
    {
     "name": "stdout",
     "output_type": "stream",
     "text": [
      "[[355  18]\n",
      " [ 12 407]]\n"
     ]
    },
    {
     "data": {
      "image/png": "[encoded data removed]",
      "text/plain": [
       "<Figure size 432x288 with 1 Axes>"
      ]
     },
     "metadata": {
      "needs_background": "light"
     },
     "output_type": "display_data"
    },
    {
     "name": "stdout",
     "output_type": "stream",
     "text": [
      "[[362  11]\n",
      " [  4 415]]\n"
     ]
    },
    {
     "data": {
      "image/png": "[encoded data removed]",
      "text/plain": [
       "<Figure size 432x288 with 1 Axes>"
      ]
     },
     "metadata": {
      "needs_background": "light"
     },
     "output_type": "display_data"
    },
    {
     "name": "stdout",
     "output_type": "stream",
     "text": [
      "[[326  47]\n",
      " [ 31 388]]\n"
     ]
    },
    {
     "data": {
      "image/png": "[encoded data removed]",
      "text/plain": [
       "<Figure size 432x288 with 1 Axes>"
      ]
     },
     "metadata": {
      "needs_background": "light"
     },
     "output_type": "display_data"
    }
   ],
   "source": [
    "# Plot the roc curves of the above NINE models\n",
    "\n",
    "# Select the proper measurements to compare the above nine models and report your decisions about the best model [10 points]\n",
    "\n",
    "# YOUR CODE HERE\n",
    "\n",
    "from sklearn.linear_model import LogisticRegression\n",
    "from sklearn.metrics import confusion_matrix\n",
    "from sklearn.metrics import roc_auc_score\n",
    "from sklearn.metrics import precision_recall_curve\n",
    "from sklearn.metrics import precision_score, recall_score, accuracy_score, f1_score\n",
    "from sklearn.metrics import roc_curve\n",
    "import matplotlib.pyplot as plt\n",
    "\n",
    "# Logisitc regression \n",
    "#lr = LogisticRegression().fit(X_train, y_train)\n",
    "y_pred = grid_lgr.predict(X_test)\n",
    "print(confusion_matrix(y_test, y_pred))\n",
    "y_pred_proba = grid_lgr.predict_proba(X_test)[::,1]\n",
    "fpr_lr, tpr_lr, threshold_lr = roc_curve(y_test,  y_pred_proba, pos_label = 'male')\n",
    "auc = roc_auc_score(y_test, y_pred_proba)\n",
    "plt.plot(fpr_lr,tpr_lr,label=\"LR auc=\"+str(auc))\n",
    "plt.legend(loc=4)\n",
    "plt.ylabel('Recall')\n",
    "plt.xlabel('1-specificity')\n",
    "plt.title('LR ROC Curve')\n",
    "plt.show()\n",
    "\n",
    "\n",
    "# DT \n",
    "y_pred_d = grid_tree.predict(X_test)\n",
    "print(confusion_matrix(y_test, y_pred_d))\n",
    "y_pred_proba_dt = grid_tree.predict_proba(X_test)[::,1]\n",
    "fpr_lr_dt, tpr_lr_dt, threshold_lr_dt = roc_curve(y_test,  y_pred_proba_dt, pos_label = 'male')\n",
    "auc = roc_auc_score(y_test, y_pred_proba_dt)\n",
    "plt.plot(fpr_lr_dt,tpr_lr_dt,label=\"DT auc=\"+str(auc))\n",
    "plt.legend(loc=4)\n",
    "plt.ylabel('Recall')\n",
    "plt.xlabel('1-specificity')\n",
    "plt.title('DT ROC Curve')\n",
    "plt.show()\n",
    "\n",
    "\n",
    "# Random Forest\n",
    "y_pred_r = grid_RFtree.predict(X_test)\n",
    "print(confusion_matrix(y_test, y_pred_r))\n",
    "y_pred_proba_rf = grid_RFtree.predict_proba(X_test)[::,1]\n",
    "fpr_lr_rf, tpr_lr_rf, threshold_lr_rf = roc_curve(y_test,  y_pred_proba_rf, pos_label = 'male')\n",
    "auc = roc_auc_score(y_test, y_pred_proba_rf)\n",
    "plt.plot(fpr_lr_rf,tpr_lr_rf,label=\"RF auc=\"+str(auc))\n",
    "plt.legend(loc=4)\n",
    "plt.ylabel('Recall')\n",
    "plt.xlabel('1-specificity')\n",
    "plt.title('RF ROC Curve')\n",
    "plt.show()\n",
    "\n",
    "\n",
    "# Adaboost DT\n",
    "y_pred_kr = ada_clf.predict(X_test)\n",
    "print(confusion_matrix(y_test, y_pred_kr))\n",
    "y_pred_proba_kr = ada_clf.predict_proba(X_test)[::,1]\n",
    "fpr_lr_kr, tpr_lr_kr, threshold_lr_kr = roc_curve(y_test, y_pred_proba_kr, pos_label = 'male')\n",
    "auc = roc_auc_score(y_test, y_pred_proba_kr)\n",
    "plt.plot(fpr_lr_kr,tpr_lr_kr,label=\"Adaboost DT auc=\"+str(auc))\n",
    "plt.legend(loc=4)\n",
    "plt.ylabel('Recall')\n",
    "plt.xlabel('1-specificity')\n",
    "plt.title('Adaboost DT')\n",
    "plt.show()\n",
    "\n",
    "\n",
    "# Adaboost SVM\n",
    "y_pred_kr = ada_clf_svm.predict(X_test)\n",
    "print(confusion_matrix(y_test, y_pred_kr))\n",
    "y_pred_proba_kr = ada_clf_svm.predict_proba(X_test)[:,1]\n",
    "fpr_lr_kr, tpr_lr_kr, threshold_lr_kr = roc_curve(y_test, y_pred_proba_kr, pos_label = 'male')\n",
    "auc = roc_auc_score(y_test, y_pred_proba_kr)\n",
    "plt.plot(fpr_lr_kr,tpr_lr_kr,label=\"Adaboost SVM auc=\"+str(auc))\n",
    "plt.legend(loc=4)\n",
    "plt.ylabel('Recall')\n",
    "plt.xlabel('1-specificity')\n",
    "plt.title('Adaboost SVM')\n",
    "plt.show()\n",
    "\n",
    "\n",
    "\n"
   ]
  },
  {
   "cell_type": "code",
   "execution_count": 17,
   "metadata": {},
   "outputs": [
    {
     "name": "stdout",
     "output_type": "stream",
     "text": [
      "[[360  13]\n",
      " [  7 412]]\n"
     ]
    },
    {
     "data": {
      "image/png": "[encoded data removed]",
      "text/plain": [
       "<Figure size 432x288 with 1 Axes>"
      ]
     },
     "metadata": {
      "needs_background": "light"
     },
     "output_type": "display_data"
    }
   ],
   "source": [
    "\n",
    "# Voting Classfier\n",
    "y_pred_kr = voting_clf.predict(X_test)\n",
    "print(confusion_matrix(y_test, y_pred_kr))\n",
    "y_pred_proba_kr = voting_clf.predict_proba(X_test)[:,1]\n",
    "fpr_lr_kr, tpr_lr_kr, threshold_lr_kr = roc_curve(y_test, y_pred_proba_kr, pos_label = 'male')\n",
    "auc = roc_auc_score(y_test, y_pred_proba_kr)\n",
    "plt.plot(fpr_lr_kr,tpr_lr_kr,label=\"Voting Classifier auc=\"+str(auc))\n",
    "plt.legend(loc=4)\n",
    "plt.ylabel('Recall')\n",
    "plt.xlabel('1-specificity')\n",
    "plt.title('Voting Classfier')\n",
    "plt.show()\n"
   ]
  },
  {
   "cell_type": "code",
   "execution_count": 18,
   "metadata": {},
   "outputs": [
    {
     "name": "stdout",
     "output_type": "stream",
     "text": [
      "[[358  15]\n",
      " [ 17 402]]\n"
     ]
    },
    {
     "data": {
      "image/png": "[encoded data removed]",
      "text/plain": [
       "<Figure size 432x288 with 1 Axes>"
      ]
     },
     "metadata": {
      "needs_background": "light"
     },
     "output_type": "display_data"
    }
   ],
   "source": [
    "# SVM\n",
    "y_pred_kr = grid_svc_kernel.predict(X_test)\n",
    "print(confusion_matrix(y_test, y_pred_kr))\n",
    "y_pred_proba_kr = grid_svc_kernel.predict_proba(X_test)[:,1]\n",
    "fpr_lr_kr, tpr_lr_kr, threshold_lr_kr = roc_curve(y_test, y_pred_proba_kr, pos_label = 'male')\n",
    "auc = roc_auc_score(y_test, y_pred_proba_kr)\n",
    "plt.plot(fpr_lr_kr,tpr_lr_kr,label=\"SVM auc=\"+str(auc))\n",
    "plt.legend(loc=4)\n",
    "plt.ylabel('Recall')\n",
    "plt.xlabel('1-specificity')\n",
    "plt.title('SVM')\n",
    "plt.show()"
   ]
  },
  {
   "cell_type": "code",
   "execution_count": null,
   "metadata": {},
   "outputs": [],
   "source": [
    "The voting classifier slightly outperforms all the individual classifiers. After analysizing all the ROC curve , we find the AUC for adaboost Decsion tree is highest among all the model i.e. 0.9987. \n",
    "Hence we can say adaboost with Decision Tree is best model."
   ]
  }
 ],
 "metadata": {
  "kernelspec": {
   "display_name": "Python 3",
   "language": "python",
   "name": "python3"
  },
  "language_info": {
   "codemirror_mode": {
    "name": "ipython",
    "version": 3
   },
   "file_extension": ".py",
   "mimetype": "text/x-python",
   "name": "python",
   "nbconvert_exporter": "python",
   "pygments_lexer": "ipython3",
   "version": "3.6.5"
  }
 },
 "nbformat": 4,
 "nbformat_minor": 2
}
