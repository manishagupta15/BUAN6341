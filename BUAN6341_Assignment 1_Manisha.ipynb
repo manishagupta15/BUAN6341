{
 "cells": [
  {
   "cell_type": "markdown",
   "metadata": {},
   "source": [
    "# Assignment 1\n",
    "## Applied Machine Learning (BUAN 6341)\n",
    "\n",
    "### <font color='red'>Due Date: February 14, 2019 11:59pm</font> "
   ]
  },
  {
   "cell_type": "markdown",
   "metadata": {},
   "source": [
    "Deliverables:\n",
    "\n",
    "- Submit your answers to conceptual questions (described in another .pdf file) in a pdf file\n",
    "- Write down your codes in the given cells described in this file, denoted as \"YOUR CODE HERE\"\n",
    "- Use \"download as\" in the \"file\" menu to convert your ipython file to a .html file\n",
    "- Submit three files: .pdf, .ipynb, and .html files to the eLearning\n",
    "\n",
    "\n",
    "This assignment covers Supervised Learning models. In this assignment, you are required to use two different clean datasets to train FOUR regression models for continous targets and THREE classification models for discrete targets.\n",
    "\n",
    "\n",
    "The total score of the implementation part is: 70"
   ]
  },
  {
   "cell_type": "code",
   "execution_count": 46,
   "metadata": {},
   "outputs": [],
   "source": [
    "NAME = \"Manisha Gupta\""
   ]
  },
  {
   "cell_type": "markdown",
   "metadata": {},
   "source": [
    "## Data Exploration"
   ]
  },
  {
   "cell_type": "code",
   "execution_count": 47,
   "metadata": {},
   "outputs": [],
   "source": [
    "%matplotlib inline \n",
    "import numpy as np\n",
    "import pandas as pd\n",
    "import sklearn\n",
    "import mglearn\n",
    "import matplotlib.pyplot as plt\n",
    "import seaborn as sns\n",
    "\n",
    "import warnings\n",
    "warnings.filterwarnings('ignore')"
   ]
  },
  {
   "cell_type": "code",
   "execution_count": 48,
   "metadata": {},
   "outputs": [],
   "source": [
    "# This is the California housing dataset.\n",
    "# The detailed description can be found in https://scikit-learn.org/stable/datasets/index.html#california-housing-dataset\n",
    "CAhousing = sklearn.datasets.fetch_california_housing()\n",
    "\n",
    "#CAhousing['DESCR']"
   ]
  },
  {
   "cell_type": "code",
   "execution_count": 49,
   "metadata": {},
   "outputs": [
    {
     "name": "stdout",
     "output_type": "stream",
     "text": [
      "Features in the housing dataset:  ['MedInc', 'HouseAge', 'AveRooms', 'AveBedrms', 'Population', 'AveOccup', 'Latitude', 'Longitude']\n"
     ]
    }
   ],
   "source": [
    "print('Features in the housing dataset: ', CAhousing['feature_names'])"
   ]
  },
  {
   "cell_type": "code",
   "execution_count": 50,
   "metadata": {},
   "outputs": [],
   "source": [
    "X = CAhousing.data\n",
    "target = CAhousing.target"
   ]
  },
  {
   "cell_type": "code",
   "execution_count": 51,
   "metadata": {},
   "outputs": [
    {
     "data": {
      "text/html": [
       "<div>\n",
       "<style scoped>\n",
       "    .dataframe tbody tr th:only-of-type {\n",
       "        vertical-align: middle;\n",
       "    }\n",
       "\n",
       "    .dataframe tbody tr th {\n",
       "        vertical-align: top;\n",
       "    }\n",
       "\n",
       "    .dataframe thead th {\n",
       "        text-align: right;\n",
       "    }\n",
       "</style>\n",
       "<table border=\"1\" class=\"dataframe\">\n",
       "  <thead>\n",
       "    <tr style=\"text-align: right;\">\n",
       "      <th></th>\n",
       "      <th>MedInc</th>\n",
       "      <th>HouseAge</th>\n",
       "      <th>AveRooms</th>\n",
       "      <th>AveBedrms</th>\n",
       "      <th>Population</th>\n",
       "      <th>AveOccup</th>\n",
       "      <th>Latitude</th>\n",
       "      <th>Longitude</th>\n",
       "      <th>target</th>\n",
       "    </tr>\n",
       "  </thead>\n",
       "  <tbody>\n",
       "    <tr>\n",
       "      <th>0</th>\n",
       "      <td>8.3252</td>\n",
       "      <td>41.0</td>\n",
       "      <td>6.984127</td>\n",
       "      <td>1.023810</td>\n",
       "      <td>322.0</td>\n",
       "      <td>2.555556</td>\n",
       "      <td>37.88</td>\n",
       "      <td>-122.23</td>\n",
       "      <td>4.526</td>\n",
       "    </tr>\n",
       "    <tr>\n",
       "      <th>1</th>\n",
       "      <td>8.3014</td>\n",
       "      <td>21.0</td>\n",
       "      <td>6.238137</td>\n",
       "      <td>0.971880</td>\n",
       "      <td>2401.0</td>\n",
       "      <td>2.109842</td>\n",
       "      <td>37.86</td>\n",
       "      <td>-122.22</td>\n",
       "      <td>3.585</td>\n",
       "    </tr>\n",
       "    <tr>\n",
       "      <th>2</th>\n",
       "      <td>7.2574</td>\n",
       "      <td>52.0</td>\n",
       "      <td>8.288136</td>\n",
       "      <td>1.073446</td>\n",
       "      <td>496.0</td>\n",
       "      <td>2.802260</td>\n",
       "      <td>37.85</td>\n",
       "      <td>-122.24</td>\n",
       "      <td>3.521</td>\n",
       "    </tr>\n",
       "    <tr>\n",
       "      <th>3</th>\n",
       "      <td>5.6431</td>\n",
       "      <td>52.0</td>\n",
       "      <td>5.817352</td>\n",
       "      <td>1.073059</td>\n",
       "      <td>558.0</td>\n",
       "      <td>2.547945</td>\n",
       "      <td>37.85</td>\n",
       "      <td>-122.25</td>\n",
       "      <td>3.413</td>\n",
       "    </tr>\n",
       "    <tr>\n",
       "      <th>4</th>\n",
       "      <td>3.8462</td>\n",
       "      <td>52.0</td>\n",
       "      <td>6.281853</td>\n",
       "      <td>1.081081</td>\n",
       "      <td>565.0</td>\n",
       "      <td>2.181467</td>\n",
       "      <td>37.85</td>\n",
       "      <td>-122.25</td>\n",
       "      <td>3.422</td>\n",
       "    </tr>\n",
       "  </tbody>\n",
       "</table>\n",
       "</div>"
      ],
      "text/plain": [
       "   MedInc  HouseAge  AveRooms  AveBedrms  Population  AveOccup  Latitude  \\\n",
       "0  8.3252      41.0  6.984127   1.023810       322.0  2.555556     37.88   \n",
       "1  8.3014      21.0  6.238137   0.971880      2401.0  2.109842     37.86   \n",
       "2  7.2574      52.0  8.288136   1.073446       496.0  2.802260     37.85   \n",
       "3  5.6431      52.0  5.817352   1.073059       558.0  2.547945     37.85   \n",
       "4  3.8462      52.0  6.281853   1.081081       565.0  2.181467     37.85   \n",
       "\n",
       "   Longitude  target  \n",
       "0    -122.23   4.526  \n",
       "1    -122.22   3.585  \n",
       "2    -122.24   3.521  \n",
       "3    -122.25   3.413  \n",
       "4    -122.25   3.422  "
      ]
     },
     "execution_count": 51,
     "metadata": {},
     "output_type": "execute_result"
    }
   ],
   "source": [
    "# convert the data into a pandas DataFrame, in case you might need to use in the following questions.\n",
    "\n",
    "df_housing = pd.DataFrame(CAhousing.data,columns=CAhousing.feature_names)\n",
    "df_housing['target'] = pd.Series(CAhousing.target)\n",
    "df_housing.head()"
   ]
  },
  {
   "cell_type": "code",
   "execution_count": 52,
   "metadata": {
    "scrolled": true
   },
   "outputs": [
    {
     "data": {
      "image/png": "[encoded data removed]",
      "text/plain": [
       "<Figure size 432x288 with 2 Axes>"
      ]
     },
     "metadata": {},
     "output_type": "display_data"
    }
   ],
   "source": [
    "# Explore the correlation plots among variables\n",
    "\n",
    "# YOUR CODE HERE (5 points)\n",
    "cols = ['MedInc','HouseAge','AveRooms','AveBedrms','Population','AveOccup','Latitude','Longitude','target']\n",
    "sns.heatmap(df_housing[cols].corr(),cmap = 'coolwarm');\n",
    "\n",
    "\n"
   ]
  },
  {
   "cell_type": "markdown",
   "metadata": {},
   "source": [
    "## Regression"
   ]
  },
  {
   "cell_type": "code",
   "execution_count": 53,
   "metadata": {},
   "outputs": [],
   "source": [
    "# split the dataset into training and test sets\n",
    "\n",
    "from sklearn.model_selection import train_test_split\n",
    "X_train, X_test, y_train, y_test = train_test_split(X, target, random_state=42)\n"
   ]
  },
  {
   "cell_type": "code",
   "execution_count": 54,
   "metadata": {
    "scrolled": true
   },
   "outputs": [
    {
     "name": "stdout",
     "output_type": "stream",
     "text": [
      "lr.coef_: [ 4.47600069e-01  9.56752596e-03 -1.24755956e-01  7.94471254e-01\n",
      " -1.43902596e-06 -3.44307993e-03 -4.18555257e-01 -4.33405135e-01]\n",
      "lr.intercept_: -37.027827585269385\n",
      "Training set score: 0.609873031052925\n",
      "Test set score:  0.5910509795491352\n"
     ]
    }
   ],
   "source": [
    "# Train a linear regression model, report the coefficients and model performance (8 points)\n",
    "\n",
    "# YOUR CODE HERE\n",
    "from sklearn.linear_model import LinearRegression\n",
    "lr = LinearRegression().fit(X_train, y_train)\n",
    "print(\"lr.coef_:\", lr.coef_)\n",
    "print(\"lr.intercept_:\", lr.intercept_)\n",
    "\n",
    "print(\"Training set score:\",(lr.score(X_train, y_train)))\n",
    "print(\"Test set score: \",(lr.score(X_test, y_test)))\n"
   ]
  },
  {
   "cell_type": "code",
   "execution_count": 55,
   "metadata": {},
   "outputs": [
    {
     "name": "stdout",
     "output_type": "stream",
     "text": [
      "Best parameters:  {'polynomialfeatures__degree': 1}\n",
      "train score:  0.609873031052925\n",
      "test score:  0.5910509795491368\n",
      "training results [0.61006744 0.68577044 0.74209696 0.76071424]\n",
      "testing results [ 6.07159969e-01 -5.00708656e+01 -1.56646110e+04 -2.85168452e+11]\n",
      "Poly features:  9\n",
      "Coefficients:  [ 0.00000000e+00  4.47600069e-01  9.56752596e-03 -1.24755956e-01\n",
      "  7.94471254e-01 -1.43902596e-06 -3.44307993e-03 -4.18555257e-01\n",
      " -4.33405135e-01]\n",
      " grid poly_cv : {'mean_fit_time': array([0.03749986, 0.15621581, 0.66717186, 2.17873626]), 'std_fit_time': array([0.01249447, 0.02794472, 0.06994668, 0.83244418]), 'mean_score_time': array([0.00312457, 0.01561995, 0.02573032, 0.06561089]), 'std_score_time': array([0.00624914, 0.00987729, 0.00836161, 0.02072331]), 'param_polynomialfeatures__degree': masked_array(data=[1, 2, 3, 4],\n",
      "             mask=[False, False, False, False],\n",
      "       fill_value='?',\n",
      "            dtype=object), 'params': [{'polynomialfeatures__degree': 1}, {'polynomialfeatures__degree': 2}, {'polynomialfeatures__degree': 3}, {'polynomialfeatures__degree': 4}], 'split0_test_score': array([ 6.00666912e-01,  3.28096731e-01, -6.23255456e+01, -1.72478258e+03]), 'split1_test_score': array([  0.61958343,   0.6796999 ,  -0.23879585, -86.13743285]), 'split2_test_score': array([ 6.04365328e-01, -2.50932744e+02, -7.82584268e+04, -1.42561298e+12]), 'split3_test_score': array([ 6.10342358e-01,  6.78827413e-01, -2.74190329e+00, -4.90273012e+03]), 'split4_test_score': array([ 6.00841815e-01, -1.10820827e+00,  6.77823746e-01, -2.29270406e+08]), 'mean_test_score': array([ 6.07159969e-01, -5.00708656e+01, -1.56646110e+04, -2.85168452e+11]), 'std_test_score': array([7.13244545e-03, 1.00433105e+02, 3.12969170e+04, 5.70222272e+11]), 'rank_test_score': array([1, 2, 3, 4]), 'split0_train_score': array([0.61213003, 0.68638547, 0.73619111, 0.77013183]), 'split1_train_score': array([0.60736487, 0.68203138, 0.74111596, 0.75257242]), 'split2_train_score': array([0.60982238, 0.69467811, 0.74686639, 0.77192034]), 'split3_train_score': array([0.60892528, 0.67837471, 0.73739054, 0.74678321]), 'split4_train_score': array([0.61209464, 0.68738251, 0.74892079, 0.7621634 ]), 'mean_train_score': array([0.61006744, 0.68577044, 0.74209696, 0.76071424]), 'std_train_score': array([0.00184566, 0.00549547, 0.00504587, 0.00976453])}\n",
      "Train MSE score 0.5205522163645129\n",
      "Test MSE score 0.5411287478470668\n",
      "Train MAE score 0.5295154304302114\n",
      "Test MAE score 0.5296964012919724\n"
     ]
    }
   ],
   "source": [
    "# Train a polynomial regression model, report the coefficients, the best parameters, and model performance (8 points)\n",
    "# hint: find the optimal power of polynomial features\n",
    "\n",
    "# YOUR CODE HERE\n",
    "from sklearn.model_selection import GridSearchCV\n",
    "from sklearn.preprocessing  import PolynomialFeatures\n",
    "from sklearn.pipeline import make_pipeline\n",
    "from sklearn.linear_model import LinearRegression\n",
    "poly = PolynomialFeatures()\n",
    "lreg = LinearRegression()\n",
    "param_poly = {'polynomialfeatures__degree':range(1,5)}\n",
    "#apply polynomial regression in pipeline\n",
    "pipe_poly = make_pipeline(PolynomialFeatures(), LinearRegression())\n",
    "grid_poly = GridSearchCV(pipe_poly, param_poly,cv=5, n_jobs=-1, return_train_score = True)\n",
    "grid_poly.fit(X_train, y_train)\n",
    "\n",
    "\n",
    "#find best parameters\n",
    "print('Best parameters: ', grid_poly.best_params_)\n",
    "\n",
    "\n",
    "print('train score: ', grid_poly.score(X_train, y_train))\n",
    "print('test score: ', grid_poly.score(X_test, y_test))\n",
    "\n",
    "print(\"training results\", grid_poly.cv_results_['mean_train_score'])\n",
    "print(\"testing results\", grid_poly.cv_results_['mean_test_score'])\n",
    "\n",
    "# print the coefficients\n",
    "print('Poly features: ', grid_poly.best_estimator_.named_steps['polynomialfeatures'].n_output_features_)\n",
    "print('Coefficients: ', grid_poly.best_estimator_.named_steps['linearregression'].coef_)\n",
    "\n",
    "# OUTPUT of GridSearchCV:\n",
    "#      cv_results_\n",
    "#      best_estimator_\n",
    "#      best_score_\n",
    "#      best_params_\n",
    "\n",
    "print(\" grid poly_cv :\",grid_poly.cv_results_)\n",
    "\n",
    "y_poly_train_predict = grid_poly.predict(X_train)\n",
    "y_poly_predict = grid_poly.predict(X_test)\n",
    "\n",
    "#MSE and MAE\n",
    "from sklearn.metrics.scorer import mean_squared_error as mse\n",
    "from sklearn.metrics.scorer import mean_absolute_error as mae\n",
    "\n",
    "print('Train MSE score', mse(y_poly_train_predict,y_train))\n",
    "print('Test MSE score',mse(y_poly_predict,y_test) )\n",
    "\n",
    "print('Train MAE score',mae(y_poly_train_predict,y_train))\n",
    "print('Test MAE score', mae(y_poly_predict,y_test))"
   ]
  },
  {
   "cell_type": "code",
   "execution_count": 56,
   "metadata": {},
   "outputs": [
    {
     "name": "stdout",
     "output_type": "stream",
     "text": [
      "train score:  0.609873031052925\n",
      "test score:  0.5910509801706125\n",
      "best parameters: {'alpha': 1e-05}\n",
      "Best cross-validation score: 0.607159968690397\n"
     ]
    }
   ],
   "source": [
    "# Train a Ridge regression model, report the coefficients, the best parameters, and model performance (8 points)\n",
    "# hint: find the optimal alpha\n",
    "\n",
    "# YOUR CODE HERE\n",
    "from sklearn.model_selection import GridSearchCV\n",
    "from sklearn.linear_model import Ridge\n",
    "#X_train, X_test, y_train, y_test = train_test_split(X, target, random_state=0)\n",
    "\n",
    "ridge = Ridge().fit(X_train, y_train)\n",
    "#print(\"Training set score: \",(ridge.score(X_train, y_train)))\n",
    "#print(\"Test set score: \",(ridge.score(X_test, y_test)))\n",
    "\n",
    "ridge = Ridge()\n",
    "\n",
    "#define a list of parameters\n",
    "param_ridge = {'alpha':[0.00001, 0.0001, 0.001, 0.01, 0.1, 1, 10, 100,1000] }\n",
    "\n",
    "grid_ridge = GridSearchCV(ridge, param_ridge, cv=5, return_train_score = True)\n",
    "grid_ridge.fit(X_train, y_train)\n",
    "\n",
    "\n",
    "print('train score: ', grid_ridge.score(X_train, y_train))\n",
    "print('test score: ', grid_ridge.score(X_test, y_test))\n",
    "\n",
    "#find best parameters\n",
    "print('best parameters:',grid_ridge.best_params_)\n",
    "print('Best cross-validation score:', grid_ridge.best_score_)\n"
   ]
  },
  {
   "cell_type": "code",
   "execution_count": 57,
   "metadata": {},
   "outputs": [
    {
     "name": "stdout",
     "output_type": "stream",
     "text": [
      "Training set score:  0.2867363771486492\n",
      "Test set score:  0.2854847529538541\n",
      "Number of features used: 3\n",
      "train score:  0.6098726061440054\n",
      "test score:  0.5911854450188642\n",
      "Best parameters:  {'alpha': 0.0001}\n",
      "Best cross-validation score: 0.6071607539633931\n"
     ]
    }
   ],
   "source": [
    "# Train a Lasso regression model, report the coefficients, the best parameters, and model performance (8 points)\n",
    "# hint: find the optimal alpha\n",
    "\n",
    "# YOUR CODE HERE\n",
    "\n",
    "from sklearn.linear_model import Lasso\n",
    "\n",
    "lasso = Lasso().fit(X_train, y_train)\n",
    "print(\"Training set score: \",(lasso.score(X_train, y_train)))\n",
    "print(\"Test set score: \",(lasso.score(X_test, y_test)))\n",
    "print(\"Number of features used:\", np.sum(lasso.coef_ != 0))\n",
    "\n",
    "lasso = Lasso()\n",
    "\n",
    "#define a list of parameters\n",
    "param_lasso = {'alpha':[0.00001, 0.0001, 0.001, 0.01, 0.1, 1, 10] }\n",
    "\n",
    "grid_lasso = GridSearchCV(lasso, param_lasso, cv=5, return_train_score = True)\n",
    "grid_lasso.fit(X_train, y_train)\n",
    "\n",
    "\n",
    "print('train score: ', grid_lasso.score(X_train, y_train))\n",
    "print('test score: ', grid_lasso.score(X_test, y_test))\n",
    "\n",
    "#find best parameters\n",
    "print('Best parameters: ', grid_lasso.best_params_)\n",
    "print('Best cross-validation score:', grid_lasso.best_score_)\n"
   ]
  },
  {
   "cell_type": "markdown",
   "metadata": {},
   "source": [
    " <font color='red'>Summarize your findings:</font> \n",
    "\n",
    "Which one is the best? (3 points)"
   ]
  },
  {
   "cell_type": "markdown",
   "metadata": {},
   "source": [
    "Lasso is best as it got highest test score as compared to all others. Lasso test score is 0.591185445018864 where as every other algorithm are having less test score. Lasso test score is high by 0.000134465469729. the test score for Linear regression, polynomial regression, Ridge and lasso are 0.591050979549135,\t0.591050979549136,\t0.591050980170612,\t0.591185445018864 respectively.\n"
   ]
  },
  {
   "cell_type": "markdown",
   "metadata": {},
   "source": [
    "## Classification "
   ]
  },
  {
   "cell_type": "code",
   "execution_count": 58,
   "metadata": {},
   "outputs": [],
   "source": [
    "(X, y) = sklearn.datasets.make_moons(n_samples=10000, noise=0.4)\n",
    "\n",
    "X_train, X_test, y_train, y_test = train_test_split(X, y, random_state=42)\n"
   ]
  },
  {
   "cell_type": "code",
   "execution_count": 59,
   "metadata": {},
   "outputs": [
    {
     "name": "stdout",
     "output_type": "stream",
     "text": [
      "lr.coef_: [[ 1.28094098 -2.86441535]]\n",
      "lr.intercept_: [0.12059897]\n",
      "Training set score:  0.8336\n",
      "Test set score:  0.8316\n"
     ]
    }
   ],
   "source": [
    "# Train a logistic regression model, report the coefficients and model performance (8 points)\n",
    "\n",
    "# YOUR CODE HERE\n",
    "from sklearn.linear_model import LogisticRegression\n",
    "\n",
    "logreg = LogisticRegression().fit(X_train, y_train)\n",
    "\n",
    "print(\"lr.coef_:\", logreg.coef_)\n",
    "print(\"lr.intercept_:\", logreg.intercept_)\n",
    "\n",
    "print(\"Training set score: \",(logreg.score(X_train, y_train)))\n",
    "print(\"Test set score: \", (logreg.score(X_test, y_test)))\n",
    "\n",
    "\n",
    "\n"
   ]
  },
  {
   "cell_type": "code",
   "execution_count": 60,
   "metadata": {},
   "outputs": [
    {
     "name": "stdout",
     "output_type": "stream",
     "text": [
      "Test set predictions: [0 1 1 ... 1 0 1]\n",
      "train score:  0.8684\n",
      "test score:  0.866\n",
      "Best Knn Parameter :  {'n_neighbors': 23}\n"
     ]
    }
   ],
   "source": [
    "# Train a KNN model, report the best parameters and model performance (10 points)\n",
    "# hint: find the optimal k\n",
    "\n",
    "# YOUR CODE HERE\n",
    "from sklearn.model_selection import GridSearchCV\n",
    "from sklearn.neighbors import KNeighborsClassifier\n",
    "from mpl_toolkits.mplot3d import Axes3D\n",
    "from matplotlib.colors import ListedColormap\n",
    "from sklearn.neighbors import KNeighborsClassifier\n",
    "n_neighbors = 3\n",
    "\n",
    "clf_train = KNeighborsClassifier(n_neighbors)\n",
    "clf_train.fit(X_train, y_train)\n",
    "\n",
    "print(\"Test set predictions:\", clf_train.predict(X_test))\n",
    "#print(\"Test set accuracy:\",(clf_train.score(X_test, y_test)))\n",
    "\n",
    "\n",
    "knn = KNeighborsClassifier()\n",
    "\n",
    "# define a list of parameters\n",
    "#param_knn = {'n_neighbors': [5, 10, 15, 20, 25, 30]}\n",
    "param_knn = {'n_neighbors': range(5,25,3)}\n",
    "\n",
    "#apply grid search\n",
    "grid_knn = GridSearchCV(knn, param_knn, cv=5, return_train_score=True)\n",
    "grid_knn.fit(X_train, y_train)\n",
    "\n",
    "print('train score: ', grid_knn.score(X_train, y_train))\n",
    "print('test score: ', grid_knn.score(X_test, y_test))\n",
    "\n",
    "print(\"Best Knn Parameter : \", grid_knn.best_params_)\n"
   ]
  },
  {
   "cell_type": "code",
   "execution_count": 61,
   "metadata": {},
   "outputs": [
    {
     "name": "stdout",
     "output_type": "stream",
     "text": [
      "{'max_depth': 1, 'max_leaf_nodes': 4, 'min_samples_split': 2}\n",
      "0.862\n",
      "Accuracy on training set:  0.8626666666666667\n",
      "Accuracy on test set: 0.862\n"
     ]
    }
   ],
   "source": [
    "# Train a Decision Tree model, report the best parameters and model performance (10 points)\n",
    "# hint: find the optimal max_depth\n",
    "\n",
    "# YOUR CODE HERE\n",
    "from sklearn.tree import DecisionTreeClassifier\n",
    "import matplotlib.pyplot as plt\n",
    "import numpy as np\n",
    "import mglearn\n",
    "\n",
    "import warnings\n",
    "warnings.filterwarnings(\"ignore\")\n",
    "tree = DecisionTreeClassifier(random_state=0)\n",
    "tree.fit(X_train, y_train)\n",
    "#print(\"Accuracy on training set: \",(tree.score(X_train, y_train)))\n",
    "#print(\"Accuracy on test set: \",(tree.score(X_test, y_test)))\n",
    "tree = DecisionTreeClassifier(max_depth=4, random_state=0)\n",
    "tree.fit(X_train, y_train)\n",
    "\n",
    "#print(\"Accuracy on training set: \",(tree.score(X_train, y_train)))\n",
    "#print(\"Accuracy on test set:\", (tree.score(X_test, y_test)))\n",
    "from sklearn.model_selection import GridSearchCV\n",
    "opt_tree = DecisionTreeClassifier(random_state = 0)\n",
    "param_DT = {\"max_depth\": range(1,10),\n",
    "           \"min_samples_split\": range(2,10,1),\n",
    "           \"max_leaf_nodes\": range(2,5)}\n",
    "\n",
    "grid_tree = GridSearchCV(opt_tree,param_DT,cv=5)\n",
    "grid_tree.fit(X_train,y_train)\n",
    "print(\"Best Parameter \", grid_tree.best_params_)\n",
    "print(grid_tree.score(X_test,y_test))\n",
    "print(\"Accuracy on training set: \",(grid_tree.score(X_train, y_train)))\n",
    "print(\"Accuracy on test set:\", (grid_tree.score(X_test, y_test)))\n",
    "\n"
   ]
  },
  {
   "cell_type": "markdown",
   "metadata": {},
   "source": [
    " <font color='red'>Summarize your findings:</font> \n",
    "\n",
    "Which one is the best? (2 points)"
   ]
  },
  {
   "cell_type": "markdown",
   "metadata": {},
   "source": [
    "The Decision tree is best among all others. It has high test score i.e.0.8628 where as Logistic has 0.8404 and Knn has 0.8576."
   ]
  }
 ],
 "metadata": {
  "kernelspec": {
   "display_name": "Python 3",
   "language": "python",
   "name": "python3"
  },
  "language_info": {
   "codemirror_mode": {
    "name": "ipython",
    "version": 3
   },
   "file_extension": ".py",
   "mimetype": "text/x-python",
   "name": "python",
   "nbconvert_exporter": "python",
   "pygments_lexer": "ipython3",
   "version": "3.6.5"
  }
 },
 "nbformat": 4,
 "nbformat_minor": 2
}
